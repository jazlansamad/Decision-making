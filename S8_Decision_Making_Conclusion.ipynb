{
 "cells": [
  {
   "cell_type": "markdown",
   "id": "1b4476b7-9d09-4bdc-b005-ec5fc323ac95",
   "metadata": {},
   "source": [
    "<div class=\"alert alert-success\">\n",
    "\n",
    "<b></b> <a class=\"tocSkip\"></a>\n",
    "\n",
    "# Table of Contents\n",
    "\n",
    "1. [**Project Description**](#**Project-Description**)\n",
    "2. [**Part 1. Prioritizing Hypotheses**](#**Part-1.-Prioritizing-Hypotheses**)\n",
    "   - [Prioritizing Hypotheses](#prioritizing-hypotheses)\n",
    "3. [**Part 2. A/B Testing Analysis**](#**Part-2.-A/B-Testing-Analysis**)\n",
    "   - [A/B Testing Analysis](#ab-testing-analysis)\n",
    "   - [Data Quality Checking](#data-quality-checking)\n",
    "   - [Data Preparation](#data-preparation)\n",
    "   - [Plot cumulative income by group](#plot-cumulative-income-by-group)\n",
    "   - [Plot the cumulative average order size by group](#Plot-the-cumulative-average-order-size-by-group)\n",
    "   - [Describe the relative differences for group B's cumulative average order size compared to group A](#Describe-the-relative-differences-for-group-B's-cumulative-average-order-size-compared-to-group-A)\n",
    "   - [Plot cumulative conversions by cohort](#Plot-cumulative-conversions-by-cohort)\n",
    "   - [Describe the relative differences for group B's cumulative conversion rate compared to group A](#Describe-the-relative-differences-for-group-B's-cumulative-conversion-rate-compared-to-group-A)\n",
    "   - [Calculate the conversion rate for each group as the ratio of orders to the number of visits each day. Graph the daily conversion rates of both groups and explain the differences.](#Calculate-the-conversion-rate-for-each-group-as-the-ratio-of-orders-to-the-number-of-visits-each-day.-Graph-the-daily-conversion-rates-of-both-groups-and-explain-the-differences.)\n",
    "   - [Create a scatter chart for the number of orders per user](#Create-a-scatter-chart-for-the-number-of-orders-per-user)\n",
    "   - [Calculate the 95th and 99th percentiles for the number of orders per user. Determine the point when a data point turns into an anomaly.](#Calculate-the-95th-and-99th-percentiles-for-the-number-of-orders-per-user.-Determine-the-point-when-a-data-point-turns-into-an-anomaly)\n",
    "\n",
    "   - [Create a scatter chart for order prices](#create-a-scatter-chart-for-order-prices)\n",
    "   - [Calculate the 95th and 99th percentiles for order prices. Determine the point when a data point turns into an anomaly.](#Calculate-the-95th-and-99th-percentiles-for-order-prices.-Determine-the-point-when-a-data-point-turns-into-an-anomaly.)\n",
    "   - [Find the statistical significance of conversion differences between groups using raw data](#Find-the-statistical-significance-of-conversion-differences-between-groups-using-raw-data)\n",
    "   - [Find the statistical significance of differences in average order size between groups using raw data](#Find-the-statistical-significance-of-differences-in-average-order-size-between-groups-using-raw-data)\n",
    "   - [Find the statistical significance of conversion differences between groups using filtered data](#Find-the-statistical-significance-of-conversion-differences-between-groups-using-filtered-data)\n",
    "   - [Find the statistical significance of differences in average order size between groups using filtered data](#Find-the-statistical-significance-of-differences-in-average-order-size-between-groups-using-filtered-data)\n",
    "5. [**Conclusions and Decisions based on Testing**](#**Conclusions-and-Decisions-based-on-Testing**)"
   ]
  },
  {
   "cell_type": "code",
   "execution_count": null,
   "id": "8f6656f4-b0bb-40ab-9f6b-be4727c91cdd",
   "metadata": {},
   "outputs": [],
   "source": []
  },
  {
   "cell_type": "code",
   "execution_count": null,
   "id": "b89b3ed1-1a7b-4ba9-ac59-242b13b73b05",
   "metadata": {},
   "outputs": [],
   "source": []
  },
  {
   "cell_type": "markdown",
   "id": "a5fb0c2a-35a1-4e66-9fa8-4f2666769167",
   "metadata": {},
   "source": [
    "## **4. Conclusions and Decisions based on Testing**"
   ]
  },
  {
   "cell_type": "markdown",
   "id": "fd4befa2-2d3e-43d0-96bb-f0f927622b86",
   "metadata": {},
   "source": [
    "<div class=\"alert alert-success\">\n",
    "\n",
    "<b>Here are the facts</b> <a class=\"tocSkip\"></a>\n",
    "\n",
    "• Both raw data and filtered data showed statistically significant differences in conversion between groups.\n",
    "\n",
    "• Both raw data and filtered data show statistically significant differences in average order size between groups.\n",
    "\n",
    "• The graph showing the difference in conversion between groups shows that group B's results are better and show significant improvement\n",
    "\n",
    "• The graph showing the difference in average order size between groups shows that group B's results are getting better day by day, higher than group A\n",
    "\n",
    "\n",
    "<div class=\"alert alert-success\">\n",
    "\n",
    "<b>Based on these facts,</b> <a class=\"tocSkip\"></a>\n",
    "\n",
    "it can be concluded to stop testing, and consider group B as the leader. There is no point in continuing this test because it has already been found that the probability that segment B will be better than segment A exists.\n"
   ]
  },
  {
   "cell_type": "markdown",
   "id": "a8ca4d6c-eb72-4bb5-ba86-c790e2ecf7ad",
   "metadata": {},
   "source": []
  },
  {
   "cell_type": "markdown",
   "id": "6e7e1237-9b71-48da-8761-6c8a620dddc0",
   "metadata": {},
   "source": []
  },
  {
   "cell_type": "markdown",
   "id": "fc8f2d61-6112-4fee-a437-1ee4496c709a",
   "metadata": {},
   "source": []
  }
 ],
 "metadata": {
  "kernelspec": {
   "display_name": "Python 3 (ipykernel)",
   "language": "python",
   "name": "python3"
  },
  "language_info": {
   "codemirror_mode": {
    "name": "ipython",
    "version": 3
   },
   "file_extension": ".py",
   "mimetype": "text/x-python",
   "name": "python",
   "nbconvert_exporter": "python",
   "pygments_lexer": "ipython3",
   "version": "3.12.7"
  }
 },
 "nbformat": 4,
 "nbformat_minor": 5
}
